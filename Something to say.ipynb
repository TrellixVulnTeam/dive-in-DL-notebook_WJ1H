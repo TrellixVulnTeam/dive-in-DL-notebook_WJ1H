{
 "cells": [
  {
   "cell_type": "markdown",
   "metadata": {},
   "source": [
    "《动手学深度学习》（Pytorch实现）学习笔记\n",
    "\n",
    "链接： [Github地址](https://github.com/leungzzz/Dive-into-DL-PyTorch)\n",
    "\n",
    "网页版：[地址](https://tangshusen.me/Dive-into-DL-PyTorch/#/)"
   ]
  }
 ],
 "metadata": {
  "anaconda-cloud": {},
  "kernelspec": {
   "display_name": "Python [conda root]",
   "language": "python",
   "name": "conda-root-py"
  },
  "language_info": {
   "codemirror_mode": {
    "name": "ipython",
    "version": 3
   },
   "file_extension": ".py",
   "mimetype": "text/x-python",
   "name": "python",
   "nbconvert_exporter": "python",
   "pygments_lexer": "ipython3",
   "version": "3.5.2"
  },
  "toc": {
   "base_numbering": 1,
   "nav_menu": {},
   "number_sections": true,
   "sideBar": true,
   "skip_h1_title": false,
   "title_cell": "Table of Contents",
   "title_sidebar": "Contents",
   "toc_cell": false,
   "toc_position": {},
   "toc_section_display": true,
   "toc_window_display": false
  }
 },
 "nbformat": 4,
 "nbformat_minor": 1
}
