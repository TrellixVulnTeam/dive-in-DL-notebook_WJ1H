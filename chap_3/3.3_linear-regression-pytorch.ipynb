{
 "cells": [
  {
   "cell_type": "code",
   "execution_count": 1,
   "metadata": {
    "collapsed": true
   },
   "outputs": [],
   "source": [
    "### 本节主要实现使用pytorch来完成线性回归"
   ]
  },
  {
   "cell_type": "code",
   "execution_count": 2,
   "metadata": {
    "collapsed": true
   },
   "outputs": [],
   "source": [
    "import torch\n",
    "import numpy as np"
   ]
  },
  {
   "cell_type": "code",
   "execution_count": 3,
   "metadata": {
    "collapsed": false
   },
   "outputs": [],
   "source": [
    "## 生成数据集\n",
    "\n",
    "num_inputs = 2\n",
    "num_examples = 1000\n",
    "true_w = [2, -3.4]\n",
    "true_b = 4.2\n",
    "features = torch.tensor(np.random.normal(0, 1, (num_examples, num_inputs)), dtype=torch.float)\n",
    "labels = true_w[0] * features[:,0] + true_w[1] * features[:,1] + true_b\n",
    "labels += torch.tensor(np.random.normal(0, 0.01, size=labels.size()), dtype=torch.float)"
   ]
  },
  {
   "cell_type": "code",
   "execution_count": 4,
   "metadata": {
    "collapsed": true
   },
   "outputs": [],
   "source": [
    "### 读取数据"
   ]
  },
  {
   "cell_type": "code",
   "execution_count": 6,
   "metadata": {
    "collapsed": false
   },
   "outputs": [
    {
     "name": "stdout",
     "output_type": "stream",
     "text": [
      "tensor([[ 1.4853,  1.4610],\n",
      "        [-0.4883, -1.4545],\n",
      "        [-0.6530,  0.8707],\n",
      "        [-0.6345, -1.0553],\n",
      "        [ 0.3513,  1.0692],\n",
      "        [ 0.7050,  0.3915],\n",
      "        [-0.1605,  0.5744],\n",
      "        [-1.3243, -0.2287],\n",
      "        [ 0.4729,  1.2639],\n",
      "        [ 0.5773, -0.8693]]) tensor([ 2.1918,  8.1612, -0.0733,  6.5110,  1.2669,  4.2738,  1.9286,  2.3280,\n",
      "         0.8369,  8.3123])\n"
     ]
    }
   ],
   "source": [
    "import torch.utils.data as Data\n",
    "\n",
    "batch_size = 10\n",
    "dataset = Data.TensorDataset(features, labels)      # 组合训练数据的特征和标签信息\n",
    "data_iter = Data.DataLoader(dataset, batch_size, shuffle=True)  # 随机读取小批量\n",
    "\n",
    "for X, y in data_iter:\n",
    "    print(X, y)\n",
    "    break"
   ]
  },
  {
   "cell_type": "code",
   "execution_count": 7,
   "metadata": {
    "collapsed": true
   },
   "outputs": [],
   "source": [
    "### 定义模型"
   ]
  },
  {
   "cell_type": "code",
   "execution_count": 11,
   "metadata": {
    "collapsed": false
   },
   "outputs": [
    {
     "name": "stdout",
     "output_type": "stream",
     "text": [
      "LinearRegNet(\n",
      "  (linear): Linear(in_features=2, out_features=1, bias=True)\n",
      ")\n"
     ]
    }
   ],
   "source": [
    "import torch.nn as nn\n",
    "\n",
    "class LinearRegNet(nn.Module):   # 新定义的模型类继承自nn.Module\n",
    "    def __init__(self, n_feature):\n",
    "        super(LinearRegNet, self).__init__()\n",
    "        self.linear = nn.Linear(n_feature, 1)  # 先定义每个层是什么\n",
    "        \n",
    "    def forward(self, x): ## 定义前向传播\n",
    "        y = self.linear(x)          # 调用定义好的层，指明每层的输入数据\n",
    "        return y\n",
    "    \n",
    "net = LinearRegNet(num_inputs) # 初始化，输入特征信息（信息里面包含了维度信息）\n",
    "print(net)  ## print可以打印网络结构"
   ]
  },
  {
   "cell_type": "code",
   "execution_count": 12,
   "metadata": {
    "collapsed": false
   },
   "outputs": [
    {
     "name": "stdout",
     "output_type": "stream",
     "text": [
      "Sequential(\n",
      "  (linear): Linear(in_features=2, out_features=1, bias=True)\n",
      ")\n",
      "Linear(in_features=2, out_features=1, bias=True)\n"
     ]
    }
   ],
   "source": [
    "# # 此处也可以使用 nn.Sequential() 来生成网络模型\n",
    "# ## 写法一\n",
    "# net = nn.Sequential(\n",
    "#     nn.Linear(num_inputs, 1)\n",
    "# )\n",
    "\n",
    "# ## 写法二\n",
    "# net = nn.Sequential()\n",
    "# net.add_module('linear', nn.Linear(num_inputs, 1))\n",
    "# # net.add_module()\n",
    "\n",
    "# ## 写法三\n",
    "# from collections import OrderedDict\n",
    "# net = nn.Sequential(OrderedDict([\n",
    "#             ('linear', nn.Linear(num_inputs, 1))\n",
    "#             ### ()\n",
    "#         ]))\n",
    "\n",
    "# print(net)\n",
    "# print(net[0])"
   ]
  },
  {
   "cell_type": "code",
   "execution_count": 13,
   "metadata": {
    "collapsed": false
   },
   "outputs": [
    {
     "name": "stdout",
     "output_type": "stream",
     "text": [
      "Parameter containing:\n",
      "tensor([[-0.2583,  0.6369]], requires_grad=True)\n",
      "Parameter containing:\n",
      "tensor([-0.2126], requires_grad=True)\n"
     ]
    }
   ],
   "source": [
    "# 将待学习参数打印出来\n",
    "for param in net.parameters():\n",
    "    print(param)"
   ]
  },
  {
   "cell_type": "code",
   "execution_count": 14,
   "metadata": {
    "collapsed": true
   },
   "outputs": [],
   "source": [
    "### 初始化模型参数"
   ]
  },
  {
   "cell_type": "code",
   "execution_count": 15,
   "metadata": {
    "collapsed": false
   },
   "outputs": [
    {
     "data": {
      "text/plain": [
       "Parameter containing:\n",
       "tensor([0.0100], requires_grad=True)"
      ]
     },
     "execution_count": 15,
     "metadata": {},
     "output_type": "execute_result"
    }
   ],
   "source": [
    "from torch.nn import init ## init是initializer的缩写\n",
    "\n",
    "init.normal_(net[0].weight, mean=0, std=0.01)\n",
    "init.constant_(net[0].bias, val=0.01)"
   ]
  },
  {
   "cell_type": "code",
   "execution_count": 16,
   "metadata": {
    "collapsed": true
   },
   "outputs": [],
   "source": [
    "### 定义损失函数\n",
    "loss = nn.MSELoss()"
   ]
  },
  {
   "cell_type": "code",
   "execution_count": 17,
   "metadata": {
    "collapsed": true
   },
   "outputs": [],
   "source": [
    "### 定义优化算法"
   ]
  },
  {
   "cell_type": "code",
   "execution_count": 19,
   "metadata": {
    "collapsed": false
   },
   "outputs": [
    {
     "name": "stdout",
     "output_type": "stream",
     "text": [
      "SGD (\n",
      "Parameter Group 0\n",
      "    dampening: 0\n",
      "    lr: 0.03\n",
      "    momentum: 0\n",
      "    nesterov: False\n",
      "    weight_decay: 0\n",
      ")\n"
     ]
    }
   ],
   "source": [
    "import torch.optim as optim\n",
    "\n",
    "optimizer = optim.SGD(net.parameters(), lr=0.03)\n",
    "print(optimizer)"
   ]
  },
  {
   "cell_type": "code",
   "execution_count": 20,
   "metadata": {
    "collapsed": true
   },
   "outputs": [],
   "source": [
    "# 如果想要改变学习率的值，可以对其调整\n",
    "\n",
    "for param_group in optimizer.param_groups:\n",
    "    param_group['lr'] *= 0.1"
   ]
  },
  {
   "cell_type": "code",
   "execution_count": null,
   "metadata": {
    "collapsed": true
   },
   "outputs": [],
   "source": [
    "### 训练模型"
   ]
  },
  {
   "cell_type": "code",
   "execution_count": 24,
   "metadata": {
    "collapsed": false
   },
   "outputs": [
    {
     "name": "stdout",
     "output_type": "stream",
     "text": [
      "epoch 1, loss: 0.000066\n",
      "epoch 2, loss: 0.000090\n",
      "epoch 3, loss: 0.000129\n",
      "epoch 4, loss: 0.000161\n",
      "epoch 5, loss: 0.000033\n",
      "epoch 6, loss: 0.000106\n",
      "epoch 7, loss: 0.000065\n",
      "epoch 8, loss: 0.000058\n",
      "epoch 9, loss: 0.000078\n",
      "epoch 10, loss: 0.000142\n",
      "epoch 11, loss: 0.000177\n",
      "epoch 12, loss: 0.000092\n",
      "epoch 13, loss: 0.000109\n",
      "epoch 14, loss: 0.000095\n",
      "epoch 15, loss: 0.000093\n"
     ]
    }
   ],
   "source": [
    "num_epoch = 15\n",
    "for epoch in range(1, num_epoch+1):\n",
    "    for X, y in data_iter:\n",
    "        out = net(X)           # 模型输出 \n",
    "        l = loss(out, y.view(-1, 1))  # 求损失值 \n",
    "        optimizer.zero_grad()  # 梯度置零 \n",
    "        l.backward()           # 反向传播 \n",
    "        optimizer.step()       # 在optimizer的指导下，更新参数 \n",
    "        \n",
    "    print('epoch %d, loss: %f' % (epoch, l.item()))"
   ]
  },
  {
   "cell_type": "code",
   "execution_count": 25,
   "metadata": {
    "collapsed": false
   },
   "outputs": [
    {
     "name": "stdout",
     "output_type": "stream",
     "text": [
      "[2, -3.4] Parameter containing:\n",
      "tensor([[ 1.9997, -3.4000]], requires_grad=True)\n",
      "4.2 Parameter containing:\n",
      "tensor([4.1992], requires_grad=True)\n"
     ]
    }
   ],
   "source": [
    "# 获取模型参数\n",
    "dense = net[0]\n",
    "print(true_w, dense.weight)\n",
    "print(true_b, dense.bias)"
   ]
  },
  {
   "cell_type": "code",
   "execution_count": null,
   "metadata": {
    "collapsed": true
   },
   "outputs": [],
   "source": [
    "### 小结：\n",
    "\n",
    "# 在数据准备阶段，torch.utils.data 提供了封装训练数据和标签的函数\n",
    "# 在定义模型阶段，torch.nn模块提供了很多预定义好的层\n",
    "# 在定义模型阶段，torch.nn.init可以为待学习参数进行多种方式的初始化\n",
    "# 在优化算法中，  torch.optim定义了多种优化方法"
   ]
  }
 ],
 "metadata": {
  "anaconda-cloud": {},
  "kernelspec": {
   "display_name": "Python [conda env:anaconda3]",
   "language": "python",
   "name": "conda-env-anaconda3-py"
  },
  "language_info": {
   "codemirror_mode": {
    "name": "ipython",
    "version": 3
   },
   "file_extension": ".py",
   "mimetype": "text/x-python",
   "name": "python",
   "nbconvert_exporter": "python",
   "pygments_lexer": "ipython3",
   "version": "3.5.2"
  }
 },
 "nbformat": 4,
 "nbformat_minor": 1
}
