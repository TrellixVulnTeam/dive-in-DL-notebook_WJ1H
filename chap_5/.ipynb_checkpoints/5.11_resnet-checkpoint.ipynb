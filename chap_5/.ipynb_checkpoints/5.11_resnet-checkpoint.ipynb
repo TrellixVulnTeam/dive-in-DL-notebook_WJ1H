{
 "cells": [
  {
   "cell_type": "code",
   "execution_count": 1,
   "metadata": {
    "collapsed": true
   },
   "outputs": [],
   "source": [
    "### ResNet"
   ]
  },
  {
   "cell_type": "markdown",
   "metadata": {},
   "source": [
    "### 残差块\n",
    "\n",
    "作用：加速信息的流动，捕捉信息的细微波动。\n",
    "\n",
    "理想映射为$f(x)$，残差映射$f(x)-x$，恒等映射$f(x) = x$.实际上，如果理想映射接近恒等映射时，即$f(x) \\approx x$，那么下图中右边虚线框内的卷积块（残差映射）会将恒等映射的微小波动进行捕捉。\n",
    "\n",
    "![](./5.11_residual-block.svg)\n",
    "\n",
    "标准残差块的构成：\n",
    "\n",
    "$ input  ---  conv  --  bn  -- relu  --  conv  --  bn  --+--  relu   \\\\\n",
    " \\ \\ \\ \\ \\ \\ \\ \\ \\ \\ \\ \\ \\ \\ \\ |   \\ \\ \\ \\ \\ \\ \\ \\ \\ \\ \\ \\ \\ \\ \\ \\ \\ \\ \\ \\ \\ \\ \\ \\ \\ \\ \\ \\ \\ \\ \\ \\ \\ \\ \\ \\ \\ \\ \\ \\ \\ \\ \\ \\ \\ \\ \\ \\ \\  \\  \\ \\ \\ \\ \\ \\ \\ \\ \\ \\ \\ \\ \\ \\ \\ \\ \\ \\ \\ \\ \\ \\ \\   | \\\\  \n",
    " \\ \\ \\ \\ \\ \\  \\ \\ \\  \\ \\ \\ \\ \\ \\ |-------------------- $"
   ]
  },
  {
   "cell_type": "code",
   "execution_count": 9,
   "metadata": {
    "collapsed": true
   },
   "outputs": [],
   "source": [
    "### 构建Residual block\n",
    "\n",
    "import time\n",
    "import torch\n",
    "from torch import nn, optim\n",
    "import torch.nn.functional as F\n",
    "\n",
    "import sys\n",
    "sys.path.append('../d2lzh/')\n",
    "import d2lzh_pytorch as d2l\n",
    "device = torch.device('cuda' if torch.cuda.is_available() else 'cpu')\n",
    "\n",
    "class Residual(nn.Module):\n",
    "    def __init__(self, in_c, out_c, use_1x1conv=False, stride=1):\n",
    "        super(Residual, self).__init__()\n",
    "        self.conv1 = nn.Conv2d(in_c, out_c, kernel_size=3, padding=1, stride=stride)\n",
    "        self.conv2 = nn.Conv2d(out_c, out_c, kernel_size=3, padding=1)\n",
    "        if use_1x1conv:\n",
    "            self.conv3 = nn.Conv2d(in_c, out_c, kernel_size=1, stride=stride)\n",
    "        else:\n",
    "            self.conv3 = None\n",
    "        self.bn1 = nn.BatchNorm2d(out_c)\n",
    "        self.bn2 = nn.BatchNorm2d(out_c)\n",
    "        \n",
    "    def forward(self, X):\n",
    "        Y = F.relu(self.bn1(self.conv1(X)))\n",
    "        Y = self.bn2(self.conv2(Y))\n",
    "        if self.conv3:\n",
    "            X = self.conv3(X)\n",
    "        return F.relu(Y + X)"
   ]
  },
  {
   "cell_type": "code",
   "execution_count": 4,
   "metadata": {
    "collapsed": false
   },
   "outputs": [
    {
     "data": {
      "text/plain": [
       "torch.Size([4, 3, 6, 6])"
      ]
     },
     "execution_count": 4,
     "metadata": {},
     "output_type": "execute_result"
    }
   ],
   "source": [
    "# 查看输出形状是否与输入形状一致\n",
    "blk = Residual(3, 3)            # in_c, out_c\n",
    "X = torch.rand((4, 3, 6, 6))\n",
    "blk(X).shape"
   ]
  },
  {
   "cell_type": "code",
   "execution_count": 5,
   "metadata": {
    "collapsed": false
   },
   "outputs": [
    {
     "data": {
      "text/plain": [
       "torch.Size([4, 6, 3, 3])"
      ]
     },
     "execution_count": 5,
     "metadata": {},
     "output_type": "execute_result"
    }
   ],
   "source": [
    "# 改变通道数，output的尺寸\n",
    "blk = Residual(3, 6, use_1x1conv=True, stride=2)\n",
    "blk(X).shape"
   ]
  },
  {
   "cell_type": "code",
   "execution_count": 6,
   "metadata": {
    "collapsed": true
   },
   "outputs": [],
   "source": [
    "### ResNet 模型"
   ]
  },
  {
   "cell_type": "code",
   "execution_count": 10,
   "metadata": {
    "collapsed": true
   },
   "outputs": [],
   "source": [
    "# 前两层（1个卷积层）\n",
    "net = nn.Sequential(\n",
    "    nn.Conv2d(1, 64, kernel_size=7, stride=2, padding=3),\n",
    "    nn.BatchNorm2d(64),\n",
    "    nn.ReLU(),\n",
    "    nn.MaxPool2d(kernel_size=3, stride=2, padding=1)\n",
    ")\n",
    "\n",
    "# \n",
    "def resnet_block(in_c, out_c, num_residuals, first_block=False):\n",
    "    if first_block:\n",
    "        assert in_c == out_c\n",
    "    blk = []\n",
    "    for i in range(num_residuals):\n",
    "        if i == 0 and not first_block:\n",
    "            blk.append(Residual(in_c, out_c, use_1x1conv=True, stride=2))\n",
    "        else:\n",
    "            blk.append(Residual(out_c, out_c))\n",
    "    return nn.Sequential(*blk)\n",
    "\n",
    "# 这里有4×(2x2)=16个卷积层\n",
    "net.add_module('resnet_block1', resnet_block(64, 64, 2, first_block=True))\n",
    "net.add_module('resnet_block2', resnet_block(64, 128, 2))\n",
    "net.add_module('resnet_block3', resnet_block(128, 256, 2))\n",
    "net.add_module('resnet_block4', resnet_block(256, 512, 2))\n",
    "\n",
    "# 1个卷积层\n",
    "net.add_module('global_avg_pool', d2l.GlobalAvgPool2d())\n",
    "net.add_module('fc', nn.Sequential(d2l.FlattenLayer(), nn.Linear(512, 10)))\n",
    "\n",
    "## 共18个卷积层，故称为ResNet-18"
   ]
  },
  {
   "cell_type": "code",
   "execution_count": 11,
   "metadata": {
    "collapsed": false
   },
   "outputs": [
    {
     "name": "stdout",
     "output_type": "stream",
     "text": [
      "0  output shape: \t torch.Size([1, 64, 112, 112])\n",
      "1  output shape: \t torch.Size([1, 64, 112, 112])\n",
      "2  output shape: \t torch.Size([1, 64, 112, 112])\n",
      "3  output shape: \t torch.Size([1, 64, 56, 56])\n",
      "resnet_block1  output shape: \t torch.Size([1, 64, 56, 56])\n",
      "resnet_block2  output shape: \t torch.Size([1, 128, 28, 28])\n",
      "resnet_block3  output shape: \t torch.Size([1, 256, 14, 14])\n",
      "resnet_block4  output shape: \t torch.Size([1, 512, 7, 7])\n",
      "global_avg_pool  output shape: \t torch.Size([1, 512, 1, 1])\n",
      "fc  output shape: \t torch.Size([1, 10])\n"
     ]
    }
   ],
   "source": [
    "# input的形状变化\n",
    "X = torch.rand((1, 1, 224, 224))\n",
    "for name, layer in net.named_children():\n",
    "    X = layer(X)\n",
    "    print(name, ' output shape: \\t', X.shape)"
   ]
  },
  {
   "cell_type": "code",
   "execution_count": 12,
   "metadata": {
    "collapsed": true
   },
   "outputs": [],
   "source": [
    "### 准备数据"
   ]
  },
  {
   "cell_type": "code",
   "execution_count": 13,
   "metadata": {
    "collapsed": true
   },
   "outputs": [],
   "source": [
    "batch_size = 256\n",
    "train_iter, test_iter = d2l.load_data_fashion_mnist(batch_size, resize=96)"
   ]
  },
  {
   "cell_type": "code",
   "execution_count": 14,
   "metadata": {
    "collapsed": false
   },
   "outputs": [
    {
     "name": "stdout",
     "output_type": "stream",
     "text": [
      "training on  cuda\n",
      "epoch 1, loss 0.4073, train_acc 0.850, test acc 0.846, time 56.3 sec\n",
      "epoch 2, loss 0.2474, train_acc 0.909, test acc 0.914, time 56.2 sec\n",
      "epoch 3, loss 0.2073, train_acc 0.923, test acc 0.856, time 56.3 sec\n",
      "epoch 4, loss 0.1803, train_acc 0.933, test acc 0.939, time 56.4 sec\n",
      "epoch 5, loss 0.1556, train_acc 0.942, test acc 0.952, time 56.8 sec\n",
      "epoch 6, loss 0.1349, train_acc 0.950, test acc 0.938, time 56.6 sec\n",
      "epoch 7, loss 0.1163, train_acc 0.958, test acc 0.968, time 56.6 sec\n",
      "epoch 8, loss 0.0964, train_acc 0.965, test acc 0.969, time 56.7 sec\n",
      "epoch 9, loss 0.0836, train_acc 0.969, test acc 0.976, time 56.7 sec\n",
      "epoch 10, loss 0.0681, train_acc 0.974, test acc 0.982, time 57.2 sec\n"
     ]
    }
   ],
   "source": [
    "lr, num_epochs = 0.001, 10\n",
    "optimizer = torch.optim.Adam(net.parameters(), lr=lr)\n",
    "d2l.train_ch5(net, train_iter, test_iter, batch_size,\n",
    "             optimizer, device, num_epochs)"
   ]
  },
  {
   "cell_type": "code",
   "execution_count": null,
   "metadata": {
    "collapsed": true
   },
   "outputs": [],
   "source": []
  }
 ],
 "metadata": {
  "anaconda-cloud": {},
  "kernelspec": {
   "display_name": "Python [conda env:anaconda3]",
   "language": "python",
   "name": "conda-env-anaconda3-py"
  },
  "language_info": {
   "codemirror_mode": {
    "name": "ipython",
    "version": 3
   },
   "file_extension": ".py",
   "mimetype": "text/x-python",
   "name": "python",
   "nbconvert_exporter": "python",
   "pygments_lexer": "ipython3",
   "version": "3.5.2"
  }
 },
 "nbformat": 4,
 "nbformat_minor": 1
}
