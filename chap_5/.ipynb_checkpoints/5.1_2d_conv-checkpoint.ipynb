{
 "cells": [
  {
   "cell_type": "markdown",
   "metadata": {
    "ExecuteTime": {
     "end_time": "2020-04-16T00:07:24.863779Z",
     "start_time": "2020-04-16T00:07:24.861232Z"
    }
   },
   "source": [
    "# 二维卷积\n",
    "\n",
    "在卷积神经网络中，卷积运算实际就是**互相关运算**\n",
    "(而**卷积运算**是先将kernel进行左右上下翻转, 然后再做互相关操作)．\n",
    "\n",
    "我们将凡是包含了卷积层的神经网络都称为卷积神经网络．\n",
    "\n",
    "- **特征图**: Input和kernel进行互相关操作后得到的矩阵\n",
    "- **感受野**: 后一个特征图中的$1$个单元由前一个特征图的$n$个单元映射而来，$n$就是当前层相对于前一层的感受野；一般所说的感受野是当前特征图的一个单元相当于输入input的几个像素（单元），该大小可以比输入的尺寸大．（另一种说法是：当前feature map的一个单元受到了输入区域中多少个单元的影响）"
   ]
  },
  {
   "cell_type": "code",
   "execution_count": 3,
   "metadata": {
    "ExecuteTime": {
     "end_time": "2020-04-16T00:11:12.626537Z",
     "start_time": "2020-04-16T00:11:12.623458Z"
    },
    "collapsed": true
   },
   "outputs": [],
   "source": [
    "### 1. 二维互相关运算"
   ]
  },
  {
   "cell_type": "code",
   "execution_count": 7,
   "metadata": {
    "ExecuteTime": {
     "end_time": "2020-04-16T00:17:05.794711Z",
     "start_time": "2020-04-16T00:17:05.789642Z"
    },
    "collapsed": true
   },
   "outputs": [],
   "source": [
    "import torch \n",
    "from torch import nn\n",
    "\n",
    "def corr2d(X, K):\n",
    "    h, w = K.shape\n",
    "    Y = torch.zeros((X.shape[0] - h + 1, X.shape[1] - w + 1))\n",
    "    for i in range(Y.shape[0]):\n",
    "        for j in range(Y.shape[1]):\n",
    "            Y[i, j] = (X[i:i+h, j:j+w] * K).sum()\n",
    "    \n",
    "    return Y"
   ]
  },
  {
   "cell_type": "code",
   "execution_count": 8,
   "metadata": {
    "ExecuteTime": {
     "end_time": "2020-04-16T00:17:06.723539Z",
     "start_time": "2020-04-16T00:17:06.718008Z"
    },
    "collapsed": false
   },
   "outputs": [
    {
     "data": {
      "text/plain": [
       "tensor([[19., 25.],\n",
       "        [37., 43.]])"
      ]
     },
     "execution_count": 8,
     "metadata": {},
     "output_type": "execute_result"
    }
   ],
   "source": [
    "# 例子：\n",
    "Ｘ = torch.tensor([\n",
    "        [0, 1, 2],\n",
    "        [3, 4, 5],\n",
    "        [6, 7, 8],\n",
    "    ])\n",
    "K = torch.tensor([\n",
    "        [0, 1],\n",
    "        [2, 3],\n",
    "    ])\n",
    "corr2d(X, K)"
   ]
  },
  {
   "cell_type": "code",
   "execution_count": 9,
   "metadata": {
    "ExecuteTime": {
     "end_time": "2020-04-16T00:17:36.180024Z",
     "start_time": "2020-04-16T00:17:36.177663Z"
    },
    "collapsed": true
   },
   "outputs": [],
   "source": [
    "### 2.定义一个二维卷积层"
   ]
  },
  {
   "cell_type": "code",
   "execution_count": 10,
   "metadata": {
    "ExecuteTime": {
     "end_time": "2020-04-16T00:21:53.994323Z",
     "start_time": "2020-04-16T00:21:53.990540Z"
    },
    "collapsed": true
   },
   "outputs": [],
   "source": [
    "class Conv2D(nn.Module):\n",
    "    def __init__(self, kernel_size):\n",
    "        super(Conv2D, self).__init__()\n",
    "        self.weight = nn.Parameter(torch.randn(kernel_size))\n",
    "        self.bias   = nn.Parameter(torch.randn(1))  # Parameter是Ｔensors的子类\n",
    "                                            # 会自动设置requires_grad=True\n",
    "    \n",
    "    def forward(self, x):\n",
    "        return corr2d(x, self.weight) + self.bias    "
   ]
  },
  {
   "cell_type": "code",
   "execution_count": 11,
   "metadata": {
    "ExecuteTime": {
     "end_time": "2020-04-16T00:22:34.867052Z",
     "start_time": "2020-04-16T00:22:34.865163Z"
    },
    "collapsed": true
   },
   "outputs": [],
   "source": [
    "### 3. 尝试进行边缘检测"
   ]
  },
  {
   "cell_type": "code",
   "execution_count": 14,
   "metadata": {
    "ExecuteTime": {
     "end_time": "2020-04-16T00:24:52.804648Z",
     "start_time": "2020-04-16T00:24:52.795461Z"
    },
    "collapsed": false
   },
   "outputs": [
    {
     "name": "stdout",
     "output_type": "stream",
     "text": [
      "tensor([[1., 1., 0., 0., 0., 0., 1., 1.],\n",
      "        [1., 1., 0., 0., 0., 0., 1., 1.],\n",
      "        [1., 1., 0., 0., 0., 0., 1., 1.],\n",
      "        [1., 1., 0., 0., 0., 0., 1., 1.],\n",
      "        [1., 1., 0., 0., 0., 0., 1., 1.],\n",
      "        [1., 1., 0., 0., 0., 0., 1., 1.]])\n",
      "tensor([[ 1, -1]])\n",
      "tensor([[ 0.,  1.,  0.,  0.,  0., -1.,  0.],\n",
      "        [ 0.,  1.,  0.,  0.,  0., -1.,  0.],\n",
      "        [ 0.,  1.,  0.,  0.,  0., -1.,  0.],\n",
      "        [ 0.,  1.,  0.,  0.,  0., -1.,  0.],\n",
      "        [ 0.,  1.,  0.,  0.,  0., -1.,  0.],\n",
      "        [ 0.,  1.,  0.,  0.,  0., -1.,  0.]])\n"
     ]
    }
   ],
   "source": [
    "# 准备数据\n",
    "\n",
    "Ｘ = torch.ones(6, 8)\n",
    "X[:, 2:6] = 0\n",
    "K = torch.tensor([[1, -1]])\n",
    "Y = corr2d(X, K)\n",
    "\n",
    "print(X)\n",
    "print(K)\n",
    "print(Y)"
   ]
  },
  {
   "cell_type": "code",
   "execution_count": 15,
   "metadata": {
    "ExecuteTime": {
     "end_time": "2020-04-16T00:25:41.090733Z",
     "start_time": "2020-04-16T00:25:41.088960Z"
    },
    "collapsed": true
   },
   "outputs": [],
   "source": [
    "### 4. 反过来，给定数据，让其学习核函数"
   ]
  },
  {
   "cell_type": "code",
   "execution_count": 16,
   "metadata": {
    "ExecuteTime": {
     "end_time": "2020-04-16T00:30:52.178782Z",
     "start_time": "2020-04-16T00:30:51.671933Z"
    },
    "collapsed": false
   },
   "outputs": [
    {
     "name": "stdout",
     "output_type": "stream",
     "text": [
      "Step 5, loss 0.162\n",
      "Step 10, loss 0.019\n",
      "Step 15, loss 0.002\n",
      "Step 20, loss 0.000\n"
     ]
    }
   ],
   "source": [
    "conv2d = Conv2D(kernel_size=(1, 2))  # 内部已经将　w, b完成初始化\n",
    "\n",
    "step = 20\n",
    "lr = 0.01\n",
    "for i in range(step):\n",
    "    Y_hat = conv2d(X)\n",
    "    l = ((Y_hat - Y) ** 2).sum()\n",
    "    l.backward()\n",
    "    \n",
    "    # 梯度下降\n",
    "    conv2d.weight.data -= lr * conv2d.weight.grad\n",
    "    conv2d.bias.data -= lr * conv2d.bias.grad\n",
    "    \n",
    "    # 梯度清零\n",
    "    conv2d.weight.grad.fill_(0)\n",
    "    conv2d.bias.grad.fill_(0)\n",
    "    if (i + 1) % 5 == 0:\n",
    "        print('Step %d, loss %.3f' % (i + 1, l.item()))"
   ]
  },
  {
   "cell_type": "code",
   "execution_count": 17,
   "metadata": {
    "ExecuteTime": {
     "end_time": "2020-04-16T00:32:32.236166Z",
     "start_time": "2020-04-16T00:32:32.232491Z"
    },
    "collapsed": false
   },
   "outputs": [
    {
     "name": "stdout",
     "output_type": "stream",
     "text": [
      "weight: tensor([[ 0.9956, -0.9998]])\n",
      "bias:  tensor([0.0023])\n"
     ]
    }
   ],
   "source": [
    "# 查看学习到的卷积核的权重, 偏置\n",
    "print('weight:', conv2d.weight.data)\n",
    "print('bias: ', conv2d.bias.data)"
   ]
  },
  {
   "cell_type": "code",
   "execution_count": null,
   "metadata": {
    "collapsed": true
   },
   "outputs": [],
   "source": []
  }
 ],
 "metadata": {
  "anaconda-cloud": {},
  "kernelspec": {
   "display_name": "Python [conda env:anaconda3]",
   "language": "python",
   "name": "conda-env-anaconda3-py"
  },
  "language_info": {
   "codemirror_mode": {
    "name": "ipython",
    "version": 3
   },
   "file_extension": ".py",
   "mimetype": "text/x-python",
   "name": "python",
   "nbconvert_exporter": "python",
   "pygments_lexer": "ipython3",
   "version": "3.5.2"
  }
 },
 "nbformat": 4,
 "nbformat_minor": 1
}
