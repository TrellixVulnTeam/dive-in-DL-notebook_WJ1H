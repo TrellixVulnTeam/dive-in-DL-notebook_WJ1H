{
 "cells": [
  {
   "cell_type": "code",
   "execution_count": null,
   "metadata": {
    "collapsed": true
   },
   "outputs": [],
   "source": [
    "#　介绍多通道输入和多通道输出的feature map的计算．\n",
    "# 核心：保证输入和kernel两者的channels是一致的．\n",
    "#　　　　分别按照单通道的方法进行，随后将结果按元素相加"
   ]
  },
  {
   "cell_type": "code",
   "execution_count": 1,
   "metadata": {
    "collapsed": true
   },
   "outputs": [],
   "source": [
    "import torch\n",
    "from torch import nn\n",
    "import sys\n",
    "sys.path.append('../d2lzh/')\n",
    "import d2lzh_pytorch as d2l"
   ]
  },
  {
   "cell_type": "code",
   "execution_count": 2,
   "metadata": {
    "collapsed": true
   },
   "outputs": [],
   "source": [
    "def corr2d_multi_in(X, K):\n",
    "    res = d2l.corr2d(X[0, :, :], K[0, :, :])\n",
    "    for i in range(1, X.shape[0]):\n",
    "        res += d2l.corr2d(X[i, :, :], K[i, :, :])\n",
    "    return res"
   ]
  },
  {
   "cell_type": "code",
   "execution_count": 3,
   "metadata": {
    "collapsed": false
   },
   "outputs": [
    {
     "data": {
      "text/plain": [
       "tensor([[ 56.,  72.],\n",
       "        [104., 120.]])"
      ]
     },
     "execution_count": 3,
     "metadata": {},
     "output_type": "execute_result"
    }
   ],
   "source": [
    "Ｘ = torch.tensor([\n",
    "            [[0, 1, 2], [3, 4, 5], [6, 7, 8]],\n",
    "            [[1, 2, 3], [4, 5, 6], [7, 8, 9]],\n",
    "        ])\n",
    "K = torch.tensor([\n",
    "        [[0, 1], [2, 3]],\n",
    "        [[1, 2], [3, 4]],\n",
    "    ])\n",
    "corr2d_multi_in(X, K)"
   ]
  },
  {
   "cell_type": "markdown",
   "metadata": {},
   "source": [
    "### 多输出通道\n",
    "\n",
    "上面的运算，假设输入图像的形状为$I_c \\times I_h \\times I_w$，*单个卷积核*形状为$K_c \\times K_h \\times K_w$，其中$I_c = I_h$，那么经过卷积后，输出图形状为$1\\times (I_h - K_h + 1) \\times (I_w - I_h +1)$．使输出包含多通道，则使用*多个卷积核*，即$K_n \\times K_c \\times K_h \\times K_w$(其实单个卷积核是$K_n＝１$)"
   ]
  },
  {
   "cell_type": "code",
   "execution_count": 4,
   "metadata": {
    "collapsed": true
   },
   "outputs": [],
   "source": [
    "## 这种扩展输出通道数的做法，表现在程序上就是将上面的corr2d_multi_in函数执行多次，\n",
    "## 并将他们的结果用stack叠加起来．\n",
    "\n",
    "def corr2d_multi_in_out(X, K):\n",
    "    return torch.stack([corr2d_multi_in(X, k) for k in K])"
   ]
  },
  {
   "cell_type": "code",
   "execution_count": 5,
   "metadata": {
    "collapsed": false
   },
   "outputs": [
    {
     "data": {
      "text/plain": [
       "torch.Size([3, 2, 2, 2])"
      ]
     },
     "execution_count": 5,
     "metadata": {},
     "output_type": "execute_result"
    }
   ],
   "source": [
    "## 例子:\n",
    "Ｋ = torch.stack([K, K+1, K+2])\n",
    "K.shape"
   ]
  },
  {
   "cell_type": "code",
   "execution_count": 6,
   "metadata": {
    "collapsed": false
   },
   "outputs": [
    {
     "data": {
      "text/plain": [
       "tensor([[[ 56.,  72.],\n",
       "         [104., 120.]],\n",
       "\n",
       "        [[ 76., 100.],\n",
       "         [148., 172.]],\n",
       "\n",
       "        [[ 96., 128.],\n",
       "         [192., 224.]]])"
      ]
     },
     "execution_count": 6,
     "metadata": {},
     "output_type": "execute_result"
    }
   ],
   "source": [
    "corr2d_multi_in_out(X, K)"
   ]
  },
  {
   "cell_type": "markdown",
   "metadata": {},
   "source": [
    "### $1 \\times 1$卷积核\n",
    "\n",
    "作用：缩减输入通道维．（失去了卷积可以识别h,w两个维度的特征的这一功能）\n",
    "\n",
    "$1 \\times 1$卷积核运算相当于：全连接层(为什么？）\n",
    "\n",
    "原因：回顾下全连接层的特点，它的每个输出都是输入神经元与不同权重进行加权求和得到的（对于不同的输出神经元，输入神经元不变，但权重改变．）简单来说，就是＂一方改变，另一方不变＂．在$1 \\times 1$卷积这里，我们可以将卷积核视为全连接层的输入（对应于fc的输入不变,因为卷积核只有一个像素尺寸的延伸），将输入则视为fc的卷积核（对应于卷积核权重的改变）．\n",
    "\n",
    "\n",
    "![1x1卷积](./5.3_conv_1x1.svg)\n",
    "\n"
   ]
  },
  {
   "cell_type": "code",
   "execution_count": 7,
   "metadata": {
    "collapsed": true
   },
   "outputs": [],
   "source": [
    "\n",
    "def corr2d_multi_in_out_1x1(X, K):\n",
    "    c_i, h, w = X.shape\n",
    "    c_o = K.shape[0]\n",
    "    X = X.view(c_i, h * w)\n",
    "    K = K.view(c_o, c_i)\n",
    "    Y = torch.matmul(K, X)   # 全连接矩阵乘法\n",
    "    return Y.view(c_o, h, w)"
   ]
  },
  {
   "cell_type": "code",
   "execution_count": 8,
   "metadata": {
    "collapsed": false
   },
   "outputs": [
    {
     "data": {
      "text/plain": [
       "True"
      ]
     },
     "execution_count": 8,
     "metadata": {},
     "output_type": "execute_result"
    }
   ],
   "source": [
    "Ｘ = torch.rand(3, 3, 3)\n",
    "K = torch.rand(2, 3, 1, 1)\n",
    "\n",
    "y1 = corr2d_multi_in_out_1x1(X, K)\n",
    "y2 = corr2d_multi_in_out(X, K)\n",
    "\n",
    "(y1 - y2).norm().item() < 1e-6"
   ]
  },
  {
   "cell_type": "code",
   "execution_count": null,
   "metadata": {
    "collapsed": true
   },
   "outputs": [],
   "source": []
  }
 ],
 "metadata": {
  "anaconda-cloud": {},
  "kernelspec": {
   "display_name": "Python [conda env:anaconda3]",
   "language": "python",
   "name": "conda-env-anaconda3-py"
  },
  "language_info": {
   "codemirror_mode": {
    "name": "ipython",
    "version": 3
   },
   "file_extension": ".py",
   "mimetype": "text/x-python",
   "name": "python",
   "nbconvert_exporter": "python",
   "pygments_lexer": "ipython3",
   "version": "3.5.2"
  }
 },
 "nbformat": 4,
 "nbformat_minor": 1
}
