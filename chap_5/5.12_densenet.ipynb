{
 "cells": [
  {
   "cell_type": "markdown",
   "metadata": {},
   "source": [
    "### DenseNet\n",
    "\n",
    "resnet和densenet比较：\n",
    "\n",
    "![abc]('./5_12_densenet2.svg')\n",
    "\n",
    "在跨层连接上的主要区别：使用相加和使用连结(concat)\n",
    "\n",
    "DenseNet的主要构建模块：稠密块(dense block)+过渡层(transition layer)"
   ]
  },
  {
   "cell_type": "code",
   "execution_count": 1,
   "metadata": {
    "collapsed": true
   },
   "outputs": [],
   "source": [
    "### 稠密块\n",
    "import time\n",
    "import torch\n",
    "from torch import nn, optim\n",
    "import torch.nn.functional as F\n",
    "\n",
    "import sys\n",
    "sys.path.append('../d2lzh/')\n",
    "import d2lzh_pytorch as d2l\n",
    "device = torch.device('cuda' if torch.cuda.is_available() else 'cpu')\n",
    "\n",
    "def conv_block(in_c, out_c):\n",
    "    blk = nn.Sequential(\n",
    "        nn.BatchNorm2d(in_c),\n",
    "        nn.ReLU(),\n",
    "        nn.Conv2d(in_c, out_c, kernel_size=3, padding=1),\n",
    "    )\n",
    "    return blk"
   ]
  },
  {
   "cell_type": "code",
   "execution_count": 2,
   "metadata": {
    "collapsed": true
   },
   "outputs": [],
   "source": [
    "class DenseBlock(nn.Module):\n",
    "    def __init__(self, num_convs, in_c, out_c):\n",
    "        super(DenseBlock, self).__init__()\n",
    "        net = []\n",
    "        for i in range(num_convs):\n",
    "            in_ch = in_c + i * out_c\n",
    "            net.append(conv_block(in_ch, out_c))\n",
    "        self.net = nn.ModuleList(net)\n",
    "        self.out_c = in_c + num_convs * out_c\n",
    "        \n",
    "    def forward(self, X):\n",
    "        for blk in self.net:\n",
    "            Y = blk(X)\n",
    "            X = torch.cat((X, Y), dim=1)\n",
    "        return X"
   ]
  },
  {
   "cell_type": "code",
   "execution_count": 3,
   "metadata": {
    "collapsed": false
   },
   "outputs": [
    {
     "data": {
      "text/plain": [
       "torch.Size([4, 23, 8, 8])"
      ]
     },
     "execution_count": 3,
     "metadata": {},
     "output_type": "execute_result"
    }
   ],
   "source": [
    "# 例子\n",
    "blk = DenseBlock(num_convs=2, in_c=3, out_c=10)\n",
    "X = torch.rand(4, 3, 8, 8)\n",
    "Y = blk(X)\n",
    "Y.shape"
   ]
  },
  {
   "cell_type": "code",
   "execution_count": 4,
   "metadata": {
    "collapsed": true
   },
   "outputs": [],
   "source": [
    "### 过渡层"
   ]
  },
  {
   "cell_type": "code",
   "execution_count": 5,
   "metadata": {
    "collapsed": true
   },
   "outputs": [],
   "source": [
    "def transition_block(in_c, out_c):\n",
    "    blk = nn.Sequential(\n",
    "        nn.BatchNorm2d(in_c),\n",
    "        nn.ReLU(),\n",
    "        nn.Conv2d(in_c, out_c, kernel_size=1),\n",
    "        nn.AvgPool2d(kernel_size=2, stride=2),\n",
    "    )\n",
    "    return blk"
   ]
  },
  {
   "cell_type": "code",
   "execution_count": 6,
   "metadata": {
    "collapsed": false
   },
   "outputs": [
    {
     "data": {
      "text/plain": [
       "torch.Size([4, 10, 4, 4])"
      ]
     },
     "execution_count": 6,
     "metadata": {},
     "output_type": "execute_result"
    }
   ],
   "source": [
    "# 例子\n",
    "blk = transition_block(23, 10)\n",
    "blk(Y).shape"
   ]
  },
  {
   "cell_type": "code",
   "execution_count": 7,
   "metadata": {
    "collapsed": true
   },
   "outputs": [],
   "source": [
    "### DenseNet模型"
   ]
  },
  {
   "cell_type": "code",
   "execution_count": 9,
   "metadata": {
    "collapsed": false
   },
   "outputs": [],
   "source": [
    "# \n",
    "net = nn.Sequential(\n",
    "    nn.Conv2d(1, 64, kernel_size=7, stride=2, padding=3),\n",
    "    nn.BatchNorm2d(64),\n",
    "    nn.ReLU(),\n",
    "    nn.MaxPool2d(kernel_size=3, stride=2, padding=1),\n",
    ")\n",
    "\n",
    "# \n",
    "num_channels, growth_rate = 64, 32 # number_channel为当前通道数目\n",
    "num_convs_in_dense_blocks = [4, 4, 4, 4]\n",
    "\n",
    "for i, num_convs in enumerate(num_convs_in_dense_blocks):\n",
    "    DB = DenseBlock(num_convs, num_channels, growth_rate)\n",
    "    net.add_module('DenseBlock_%d' % i, DB)\n",
    "    # 获取上一个DB的输出通道，并用transition layer降低\n",
    "    num_channels = DB.out_c\n",
    "    if i != len(num_convs_in_dense_blocks) - 1: # 前三个DB的操作\n",
    "        net.add_module('transition_block_%d' % (i), \n",
    "                       transition_block(num_channels, num_channels // 2))\n",
    "        num_channels = num_channels // 2\n",
    "#    \n",
    "net.add_module('BN', nn.BatchNorm2d(num_channels))\n",
    "net.add_module('relu', nn.ReLU())\n",
    "net.add_module('global_avg_pool', d2l.GlobalAvgPool2d())\n",
    "net.add_module('fc', nn.Sequential(\n",
    "        d2l.FlattenLayer(),\n",
    "        nn.Linear(num_channels, 10)\n",
    "    ))"
   ]
  },
  {
   "cell_type": "code",
   "execution_count": 11,
   "metadata": {
    "collapsed": false
   },
   "outputs": [
    {
     "name": "stdout",
     "output_type": "stream",
     "text": [
      "0  output shape:  torch.Size([1, 64, 48, 48])\n",
      "1  output shape:  torch.Size([1, 64, 48, 48])\n",
      "2  output shape:  torch.Size([1, 64, 48, 48])\n",
      "3  output shape:  torch.Size([1, 64, 24, 24])\n",
      "DenseBlock_0  output shape:  torch.Size([1, 192, 24, 24])\n",
      "transition_block_0  output shape:  torch.Size([1, 96, 12, 12])\n",
      "DenseBlock_1  output shape:  torch.Size([1, 224, 12, 12])\n",
      "transition_block_1  output shape:  torch.Size([1, 112, 6, 6])\n",
      "DenseBlock_2  output shape:  torch.Size([1, 240, 6, 6])\n",
      "transition_block_2  output shape:  torch.Size([1, 120, 3, 3])\n",
      "DenseBlock_3  output shape:  torch.Size([1, 248, 3, 3])\n",
      "BN  output shape:  torch.Size([1, 248, 3, 3])\n",
      "relu  output shape:  torch.Size([1, 248, 3, 3])\n",
      "global_avg_pool  output shape:  torch.Size([1, 248, 1, 1])\n",
      "fc  output shape:  torch.Size([1, 10])\n"
     ]
    }
   ],
   "source": [
    "# 例子（打印各block的维度）\n",
    "X = torch.rand((1, 1, 96, 96))\n",
    "for name, layer in net.named_children():\n",
    "    X = layer(X)\n",
    "    print(name, ' output shape: ', X.shape)"
   ]
  },
  {
   "cell_type": "code",
   "execution_count": 12,
   "metadata": {
    "collapsed": true
   },
   "outputs": [],
   "source": [
    "### 获取数据"
   ]
  },
  {
   "cell_type": "code",
   "execution_count": 14,
   "metadata": {
    "collapsed": false
   },
   "outputs": [],
   "source": [
    "batch_size = 256\n",
    "train_iter, test_iter = d2l.load_data_fashion_mnist(batch_size, resize=96)"
   ]
  },
  {
   "cell_type": "code",
   "execution_count": 15,
   "metadata": {
    "collapsed": true
   },
   "outputs": [],
   "source": [
    "### 训练"
   ]
  },
  {
   "cell_type": "code",
   "execution_count": 17,
   "metadata": {
    "collapsed": false
   },
   "outputs": [
    {
     "name": "stdout",
     "output_type": "stream",
     "text": [
      "training on  cuda\n",
      "epoch 1, loss 0.4549, train_acc 0.839, test acc 0.803, time 43.5 sec\n",
      "epoch 2, loss 0.2727, train_acc 0.900, test acc 0.873, time 42.2 sec\n",
      "epoch 3, loss 0.2344, train_acc 0.914, test acc 0.903, time 42.3 sec\n",
      "epoch 4, loss 0.2094, train_acc 0.922, test acc 0.922, time 42.3 sec\n",
      "epoch 5, loss 0.1925, train_acc 0.928, test acc 0.915, time 42.4 sec\n",
      "epoch 6, loss 0.1770, train_acc 0.933, test acc 0.925, time 42.4 sec\n",
      "epoch 7, loss 0.1618, train_acc 0.940, test acc 0.931, time 42.5 sec\n",
      "epoch 8, loss 0.1540, train_acc 0.943, test acc 0.931, time 43.2 sec\n",
      "epoch 9, loss 0.1432, train_acc 0.947, test acc 0.936, time 42.5 sec\n",
      "epoch 10, loss 0.1345, train_acc 0.951, test acc 0.942, time 42.5 sec\n"
     ]
    }
   ],
   "source": [
    "lr, num_epochs = 0.001, 10\n",
    "optimizer = torch.optim.Adam(net.parameters(), lr=lr)\n",
    "d2l.train_ch5(net, train_iter, test_iter, \n",
    "             batch_size, optimizer, device, num_epochs)"
   ]
  },
  {
   "cell_type": "code",
   "execution_count": null,
   "metadata": {
    "collapsed": true
   },
   "outputs": [],
   "source": []
  }
 ],
 "metadata": {
  "kernelspec": {
   "display_name": "Python [conda env:anaconda3]",
   "language": "python",
   "name": "conda-env-anaconda3-py"
  },
  "language_info": {
   "codemirror_mode": {
    "name": "ipython",
    "version": 3
   },
   "file_extension": ".py",
   "mimetype": "text/x-python",
   "name": "python",
   "nbconvert_exporter": "python",
   "pygments_lexer": "ipython3",
   "version": "3.5.2"
  }
 },
 "nbformat": 4,
 "nbformat_minor": 1
}
