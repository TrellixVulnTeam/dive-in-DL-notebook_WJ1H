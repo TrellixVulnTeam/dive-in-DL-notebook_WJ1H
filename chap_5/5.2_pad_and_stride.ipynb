{
 "cells": [
  {
   "cell_type": "markdown",
   "metadata": {},
   "source": [
    "假设输入input的height,width为$n_h,n_w$，kernel的height,width为$k_h, k_w$,则输出形状为\n",
    "\n",
    "$$\\left( n_h - k_h + 1 \\right) \\times \\left( n_w - k_w + 1\\right)$$\n",
    "\n",
    "**考虑填充padding**\n",
    "\n",
    "假设height方向添加了共$p_h$行，width方向共添加了共$p_w$列，输出的形状为\n",
    "\n",
    "$$\\left( n_h + p_h - k_h + 1 \\right) \\times \\left( n_w + p_w - k_w + 1\\right)$$\n",
    "\n",
    "一般选择将$p_h = k_h - 1, p_w = k_w - 1$来使得input和output形状一致．"
   ]
  },
  {
   "cell_type": "code",
   "execution_count": 1,
   "metadata": {
    "collapsed": false
   },
   "outputs": [
    {
     "data": {
      "text/plain": [
       "torch.Size([8, 8])"
      ]
     },
     "execution_count": 1,
     "metadata": {},
     "output_type": "execute_result"
    }
   ],
   "source": [
    "import torch\n",
    "from torch import nn\n",
    "\n",
    "def compute_conv2d(conv2d, X):\n",
    "    '''\n",
    "        对四维的Tensor进行卷积计算．重点在于对输入输出进行降维\n",
    "    '''\n",
    "    X = X.view((1, 1) + X.shape)  # (1,1)分别代表batch,channel\n",
    "    Y = conv2d(X)\n",
    "    return Y.view(Y.shape[2:])  # 将前两维排除\n",
    "\n",
    "conv2d = nn.Conv2d(in_channels=1, out_channels=1, kernel_size=3, padding=1)\n",
    "\n",
    "# 输入\\输出维度保持一致\n",
    "X = torch.rand(8, 8)\n",
    "compute_conv2d(conv2d, X).shape\n"
   ]
  },
  {
   "cell_type": "code",
   "execution_count": 3,
   "metadata": {
    "collapsed": false
   },
   "outputs": [
    {
     "data": {
      "text/plain": [
       "torch.Size([8, 8])"
      ]
     },
     "execution_count": 3,
     "metadata": {},
     "output_type": "execute_result"
    }
   ],
   "source": [
    "# Kernel不一致，padding可以做相应调整，使输出大小不变\n",
    "conv2d = nn.Conv2d(in_channels=1, out_channels=1, kernel_size=(5,3), padding=(2,1))\n",
    "compute_conv2d(conv2d, X).shape"
   ]
  },
  {
   "cell_type": "markdown",
   "metadata": {},
   "source": [
    "**考虑步幅stride**\n",
    "\n",
    "假设height方向的步幅为$s_h$, width方向的步幅为$s_w$,那么经过卷积后图像的大小为\n",
    "\n",
    "$$ \\lfloor{\\frac{n_h + p_h - k_h + s_h}{s_h}}\\rfloor \\times \\lfloor \\frac{n_w + p_w - k_w + s_w}{s_w}\\rfloor $$\n",
    "\n",
    "**注意**：*这里的分子跟上面是不一致的*"
   ]
  },
  {
   "cell_type": "code",
   "execution_count": 5,
   "metadata": {
    "collapsed": false
   },
   "outputs": [
    {
     "data": {
      "text/plain": [
       "torch.Size([4, 4])"
      ]
     },
     "execution_count": 5,
     "metadata": {},
     "output_type": "execute_result"
    }
   ],
   "source": [
    "#　例子(步幅为２，大小减半)\n",
    "conv2d = nn.Conv2d(in_channels=1, out_channels=1, kernel_size=3, padding=1, stride=2)\n",
    "compute_conv2d(conv2d, X).shape"
   ]
  },
  {
   "cell_type": "code",
   "execution_count": 6,
   "metadata": {
    "collapsed": false
   },
   "outputs": [
    {
     "data": {
      "text/plain": [
       "torch.Size([2, 2])"
      ]
     },
     "execution_count": 6,
     "metadata": {},
     "output_type": "execute_result"
    }
   ],
   "source": [
    "# 一个复杂的例子\n",
    "conv2d = nn.Conv2d(in_channels=1, out_channels=1, kernel_size=(3,5), padding=(0,1), stride=(3,4))\n",
    "compute_conv2d(conv2d, X).shape"
   ]
  },
  {
   "cell_type": "code",
   "execution_count": null,
   "metadata": {
    "collapsed": true
   },
   "outputs": [],
   "source": []
  }
 ],
 "metadata": {
  "anaconda-cloud": {},
  "kernelspec": {
   "display_name": "Python [conda env:anaconda3]",
   "language": "python",
   "name": "conda-env-anaconda3-py"
  },
  "language_info": {
   "codemirror_mode": {
    "name": "ipython",
    "version": 3
   },
   "file_extension": ".py",
   "mimetype": "text/x-python",
   "name": "python",
   "nbconvert_exporter": "python",
   "pygments_lexer": "ipython3",
   "version": "3.5.2"
  }
 },
 "nbformat": 4,
 "nbformat_minor": 1
}
