{
 "cells": [
  {
   "cell_type": "code",
   "execution_count": null,
   "metadata": {
    "collapsed": true
   },
   "outputs": [],
   "source": [
    "# VGG（Visual Geometry Group） net的提出：\n",
    "# 虽然ＡlexＮet提出，使用深层卷积神经网络可以提升算法的效果，但是没有提供简洁的\\可以指导后来研究者如何设计对应网络的简单规则．\n",
    "\n",
    "# 此处ＶＧＧ使用重复元素来构建网络，使网络构建相对更加容易．具体做法如下：\n",
    "# １．仅使用３x3kernel代替其他尺寸的kernel.如使用两个３x3替代一个５x5kernel,他们的感受野一致，但参数却更少了，且层数也增加了．\n",
    "# ２．pooling的尺寸也进行了模式化，只使用stride＝２，kernel=2的pooling.\n",
    "# 3. 除了pooling会改变feature　map的尺寸，其他操作都不会改变输入信息的尺寸．"
   ]
  },
  {
   "cell_type": "code",
   "execution_count": 1,
   "metadata": {
    "collapsed": true
   },
   "outputs": [],
   "source": [
    "\n",
    "### VGG BLOCK\n",
    "\n",
    "import time\n",
    "import torch\n",
    "from torch import nn, optim\n",
    "\n",
    "import sys\n",
    "sys.path.append('./d2lzh/')\n",
    "import d2lzh_pytorch as d2l\n",
    "device = torch.device('cuda' if torch.cuda.is_available() else 'cpu')\n",
    "\n",
    "def vgg_block(num_convs, in_channels, out_channels):\n",
    "    blk = []\n",
    "    for i in range(num_convs):\n",
    "        if i == 0:\n",
    "            blk.append(nn.Conv2d(in_channels, out_channels, kernel_size=3, padding=1))\n",
    "        else:\n",
    "            blk.append(nn.Conv2d(out_channels,out_channels, kernel_size=3, padding=1))\n",
    "        blk.append(nn.ReLU())\n",
    "        \n",
    "    blk.append(nn.MaxPool2d(kernel_size=2, stride=2))\n",
    "    return nn.Sequential(*blk)"
   ]
  },
  {
   "cell_type": "code",
   "execution_count": 2,
   "metadata": {
    "collapsed": true
   },
   "outputs": [],
   "source": [
    "\n",
    "### VGG NET\n",
    "#　卷积层模块　＋　ＦＣ模块\n",
    "\n",
    "conv_arch = (\n",
    "    (1, 1, 64),    # 对应参数（num_convs, in_channels, out_channels）\n",
    "    (1, 64, 128),\n",
    "    (2, 128, 256),\n",
    "    (2, 256, 512),\n",
    "    (2, 512, 512),\n",
    ")\n",
    "# 上边一个有5个ｖgg_block, 每个block后减少一半，故最后大小为224/(2**5) = 7\n",
    "fc_features = 512 * 7 * 7 # c * w * h\n",
    "fc_hidden_units = 4096"
   ]
  },
  {
   "cell_type": "code",
   "execution_count": 3,
   "metadata": {
    "collapsed": true
   },
   "outputs": [],
   "source": [
    "def vgg(conv_arch, fc_features, fc_hidden_units=4096):\n",
    "    net = nn.Sequential()\n",
    "    # CONV模块\n",
    "    for i, (num_convs, in_channels, out_channels) in enumerate(conv_arch):\n",
    "        net.add_module('vgg_block_' + str(i+1), vgg_block(num_convs,in_channels,out_channels))\n",
    "        \n",
    "    # FC模块\n",
    "    fc_module = nn.Sequential(\n",
    "        d2l.FlattenLayer(),\n",
    "        nn.Linear(fc_features, fc_hidden_units),\n",
    "        nn.ReLU(),\n",
    "        nn.Dropout(0.5),\n",
    "        nn.Linear(fc_hidden_units, fc_hidden_units),\n",
    "        nn.ReLU(),\n",
    "        nn.Dropout(0.5),\n",
    "        nn.Linear(fc_hidden_units, 10),    \n",
    "    )\n",
    "    net.add_module('fc', fc_module)\n",
    "    \n",
    "    return net"
   ]
  },
  {
   "cell_type": "code",
   "execution_count": 4,
   "metadata": {
    "collapsed": false
   },
   "outputs": [
    {
     "name": "stdout",
     "output_type": "stream",
     "text": [
      "vgg_block_1 output shape: torch.Size([1, 64, 112, 112])\n",
      "vgg_block_2 output shape: torch.Size([1, 128, 56, 56])\n",
      "vgg_block_3 output shape: torch.Size([1, 256, 28, 28])\n",
      "vgg_block_4 output shape: torch.Size([1, 512, 14, 14])\n",
      "vgg_block_5 output shape: torch.Size([1, 512, 7, 7])\n",
      "fc output shape: torch.Size([1, 10])\n"
     ]
    }
   ],
   "source": [
    "# 输入一个数据观察每一层的输出形状\n",
    "\n",
    "net = vgg(conv_arch, fc_features, fc_hidden_units)\n",
    "X = torch.rand(1, 1, 224, 224)\n",
    "\n",
    "# 获取一级子模块名字及模块本身．\n",
    "for name, blk in net.named_children():\n",
    "    X = blk(X)\n",
    "    print(name, 'output shape:', X.shape)\n",
    "    \n",
    "# 从输出结果可看到，ｖgg_block每层的高，宽减半，通道数目加倍，\n",
    "# 这种设计方式使得多数卷积层具有相同的模型参数尺寸计算复杂度．"
   ]
  },
  {
   "cell_type": "code",
   "execution_count": 5,
   "metadata": {
    "collapsed": false
   },
   "outputs": [
    {
     "name": "stdout",
     "output_type": "stream",
     "text": [
      "Sequential(\n",
      "  (vgg_block_1): Sequential(\n",
      "    (0): Conv2d(1, 8, kernel_size=(3, 3), stride=(1, 1), padding=(1, 1))\n",
      "    (1): ReLU()\n",
      "    (2): MaxPool2d(kernel_size=2, stride=2, padding=0, dilation=1, ceil_mode=False)\n",
      "  )\n",
      "  (vgg_block_2): Sequential(\n",
      "    (0): Conv2d(8, 16, kernel_size=(3, 3), stride=(1, 1), padding=(1, 1))\n",
      "    (1): ReLU()\n",
      "    (2): MaxPool2d(kernel_size=2, stride=2, padding=0, dilation=1, ceil_mode=False)\n",
      "  )\n",
      "  (vgg_block_3): Sequential(\n",
      "    (0): Conv2d(16, 32, kernel_size=(3, 3), stride=(1, 1), padding=(1, 1))\n",
      "    (1): ReLU()\n",
      "    (2): Conv2d(32, 32, kernel_size=(3, 3), stride=(1, 1), padding=(1, 1))\n",
      "    (3): ReLU()\n",
      "    (4): MaxPool2d(kernel_size=2, stride=2, padding=0, dilation=1, ceil_mode=False)\n",
      "  )\n",
      "  (vgg_block_4): Sequential(\n",
      "    (0): Conv2d(32, 64, kernel_size=(3, 3), stride=(1, 1), padding=(1, 1))\n",
      "    (1): ReLU()\n",
      "    (2): Conv2d(64, 64, kernel_size=(3, 3), stride=(1, 1), padding=(1, 1))\n",
      "    (3): ReLU()\n",
      "    (4): MaxPool2d(kernel_size=2, stride=2, padding=0, dilation=1, ceil_mode=False)\n",
      "  )\n",
      "  (vgg_block_5): Sequential(\n",
      "    (0): Conv2d(64, 64, kernel_size=(3, 3), stride=(1, 1), padding=(1, 1))\n",
      "    (1): ReLU()\n",
      "    (2): Conv2d(64, 64, kernel_size=(3, 3), stride=(1, 1), padding=(1, 1))\n",
      "    (3): ReLU()\n",
      "    (4): MaxPool2d(kernel_size=2, stride=2, padding=0, dilation=1, ceil_mode=False)\n",
      "  )\n",
      "  (fc): Sequential(\n",
      "    (0): FlattenLayer()\n",
      "    (1): Linear(in_features=3136, out_features=512, bias=True)\n",
      "    (2): ReLU()\n",
      "    (3): Dropout(p=0.5, inplace=False)\n",
      "    (4): Linear(in_features=512, out_features=512, bias=True)\n",
      "    (5): ReLU()\n",
      "    (6): Dropout(p=0.5, inplace=False)\n",
      "    (7): Linear(in_features=512, out_features=10, bias=True)\n",
      "  )\n",
      ")\n"
     ]
    }
   ],
   "source": [
    "\n",
    "### VGG NET　mini(考虑到数据集本身的原因，将模型构造过大与任务本身不匹配)\n",
    "#　卷积层模块　＋　ＦＣ模块\n",
    "\n",
    "ratio = 8\n",
    "small_conv_arch = [\n",
    "    (1, 1, 64//ratio),\n",
    "    (1, 64//ratio, 128//ratio),\n",
    "    (2, 128//ratio, 256//ratio),\n",
    "    (2, 256//ratio, 512//ratio),\n",
    "    (2, 512//ratio, 512//ratio),\n",
    "]\n",
    "\n",
    "net = vgg(small_conv_arch, fc_features//ratio, fc_hidden_units//ratio)\n",
    "print(net)"
   ]
  },
  {
   "cell_type": "code",
   "execution_count": 6,
   "metadata": {
    "collapsed": false
   },
   "outputs": [
    {
     "name": "stdout",
     "output_type": "stream",
     "text": [
      "training on  cuda\n",
      "epoch 1, loss 0.5078, train_acc 0.813, test acc 0.892, time 71.5 sec\n",
      "epoch 2, loss 0.3189, train_acc 0.886, test acc 0.912, time 73.6 sec\n",
      "epoch 3, loss 0.2687, train_acc 0.902, test acc 0.924, time 72.1 sec\n",
      "epoch 4, loss 0.2420, train_acc 0.911, test acc 0.930, time 72.3 sec\n",
      "epoch 5, loss 0.2193, train_acc 0.921, test acc 0.936, time 72.5 sec\n",
      "epoch 6, loss 0.2068, train_acc 0.926, test acc 0.939, time 72.1 sec\n",
      "epoch 7, loss 0.1942, train_acc 0.929, test acc 0.949, time 71.9 sec\n",
      "epoch 8, loss 0.1800, train_acc 0.935, test acc 0.946, time 72.4 sec\n",
      "epoch 9, loss 0.1680, train_acc 0.939, test acc 0.949, time 72.0 sec\n",
      "epoch 10, loss 0.1629, train_acc 0.941, test acc 0.956, time 72.3 sec\n"
     ]
    }
   ],
   "source": [
    "### 开始训练\n",
    "batch_size = 32\n",
    "train_iter, test_iter = d2l.load_data_fashion_mnist(batch_size, resize=224)\n",
    "\n",
    "lr, num_epochs = 0.001, 10\n",
    "optimizer = torch.optim.Adam(net.parameters(), lr=lr)\n",
    "d2l.train_ch5(net, train_iter, test_iter, batch_size, optimizer, device, num_epochs)"
   ]
  },
  {
   "cell_type": "code",
   "execution_count": null,
   "metadata": {
    "collapsed": true
   },
   "outputs": [],
   "source": []
  }
 ],
 "metadata": {
  "kernelspec": {
   "display_name": "Python [conda env:anaconda3]",
   "language": "python",
   "name": "conda-env-anaconda3-py"
  },
  "language_info": {
   "codemirror_mode": {
    "name": "ipython",
    "version": 3
   },
   "file_extension": ".py",
   "mimetype": "text/x-python",
   "name": "python",
   "nbconvert_exporter": "python",
   "pygments_lexer": "ipython3",
   "version": "3.5.2"
  }
 },
 "nbformat": 4,
 "nbformat_minor": 1
}
