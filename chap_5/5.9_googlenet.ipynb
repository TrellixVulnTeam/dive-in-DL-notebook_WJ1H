{
 "cells": [
  {
   "cell_type": "code",
   "execution_count": 1,
   "metadata": {
    "collapsed": true
   },
   "outputs": [],
   "source": [
    "# 2014 GoogLeNet(基本模块：Ｉnception)"
   ]
  },
  {
   "cell_type": "markdown",
   "metadata": {},
   "source": [
    "Inception结构如下：\n",
    "\n",
    "包含了四条并行线路，四条线图的输出都保持与输入一致．\n",
    "\n",
    "![GoogLeNet](./5.9_inception.svg)"
   ]
  },
  {
   "cell_type": "code",
   "execution_count": 1,
   "metadata": {
    "collapsed": true
   },
   "outputs": [],
   "source": [
    "### Inception\n",
    "\n",
    "import time\n",
    "import torch\n",
    "from torch import nn, optim\n",
    "import torch.nn.functional as F\n",
    "\n",
    "import sys\n",
    "sys.path.append('../d2lzh/')\n",
    "import d2lzh_pytorch as d2l\n",
    "device = torch.device('cuda' if torch.cuda.is_available() else 'cpu')\n",
    "\n",
    "class Inception(nn.Module):\n",
    "    def __init__(self, in_c, c1, c2, c3, c4):   # c1-c4:四条线路的层的输出通道数\n",
    "        super(Inception, self).__init__()\n",
    "        # path 1, 1x1\n",
    "        self.p1_1 = nn.Conv2d(in_c, c1, kernel_size=1)\n",
    "        \n",
    "        # path 2, 1x1 > 3x3\n",
    "        self.p2_1 = nn.Conv2d(in_c, c2[0], kernel_size=1)\n",
    "        self.p2_2 = nn.Conv2d(c2[0], c2[1], kernel_size=3, padding=1)\n",
    "        \n",
    "        # path3, 1x1 > 5x5\n",
    "        self.p3_1 = nn.Conv2d(in_c, c3[0], kernel_size=1)\n",
    "        self.p3_2 = nn.Conv2d(c3[0], c3[1], kernel_size=5, padding=2)\n",
    "        \n",
    "        # path4, maxpool > 1x1\n",
    "        self.p4_1 = nn.MaxPool2d(kernel_size=3, stride=1, padding=1)\n",
    "        self.p4_2 = nn.Conv2d(in_c, c4, kernel_size=1)\n",
    "        \n",
    "    def forward(self, x):\n",
    "        p1 = F.relu(self.p1_1(x))\n",
    "        p2 = F.relu(self.p2_2(self.p2_1(x)))\n",
    "        p3 = F.relu(self.p3_2(self.p3_1(x)))\n",
    "        p4 = F.relu(self.p4_2(self.p4_1(x)))\n",
    "        \n",
    "        return torch.cat((p1, p2, p3, p4), dim=1) # dim=0是batch,dim=1是channel"
   ]
  },
  {
   "cell_type": "code",
   "execution_count": 2,
   "metadata": {
    "collapsed": true
   },
   "outputs": [],
   "source": [
    "### googlenet模型(Inception中各path的filters数目是在ImageNet数据集精细化尝试后确定下来的)"
   ]
  },
  {
   "cell_type": "code",
   "execution_count": 7,
   "metadata": {
    "collapsed": false
   },
   "outputs": [],
   "source": [
    "b1 = nn.Sequential(\n",
    "    nn.Conv2d(1, 64, kernel_size=7, stride=2, padding=3),\n",
    "    nn.ReLU(),\n",
    "    nn.MaxPool2d(kernel_size=3, stride=2, padding=1),\n",
    ")\n",
    "\n",
    "b2 = nn.Sequential(\n",
    "    nn.Conv2d(64, 64, kernel_size=1),\n",
    "    nn.Conv2d(64, 192, kernel_size=3, padding=1),\n",
    "    nn.MaxPool2d(kernel_size=3, stride=2, padding=1),\n",
    ")\n",
    "\n",
    "b3 = nn.Sequential(\n",
    "    Inception(192, 64, (96, 128), (16, 32), 32),\n",
    "    Inception(256, 128, (128, 192), (32, 96), 64),\n",
    "    nn.MaxPool2d(kernel_size=3, stride=2, padding=1)\n",
    ")\n",
    "\n",
    "b4 = nn.Sequential(\n",
    "    Inception(480, 192, (96, 208), (16, 48), 64),\n",
    "    Inception(512, 160, (112, 224), (24, 64), 64),\n",
    "    Inception(512, 128, (128, 256), (24, 64), 64),\n",
    "    Inception(512, 112, (144, 288), (32, 64), 64),\n",
    "    Inception(528, 256, (160, 320), (32, 128), 128),\n",
    "    nn.MaxPool2d(kernel_size=3, stride=2, padding=1),\n",
    ")\n",
    "\n",
    "b5 = nn.Sequential(\n",
    "    Inception(832, 256, (160, 320), (32, 128), 128),\n",
    "    Inception(832, 384, (192, 384), (48, 128), 128),\n",
    "    d2l.GlobalAvgPool2d(),\n",
    ")\n",
    "\n",
    "net = nn.Sequential(\n",
    "    b1, b2, b3, b4, b5,\n",
    "    d2l.FlattenLayer(),\n",
    "    nn.Linear(1024, 10),\n",
    ")"
   ]
  },
  {
   "cell_type": "code",
   "execution_count": 8,
   "metadata": {
    "collapsed": false
   },
   "outputs": [
    {
     "name": "stdout",
     "output_type": "stream",
     "text": [
      "0 output shape:  torch.Size([1, 64, 24, 24])\n",
      "1 output shape:  torch.Size([1, 192, 12, 12])\n",
      "2 output shape:  torch.Size([1, 480, 6, 6])\n",
      "3 output shape:  torch.Size([1, 832, 3, 3])\n",
      "4 output shape:  torch.Size([1, 1024, 1, 1])\n",
      "5 output shape:  torch.Size([1, 1024])\n",
      "6 output shape:  torch.Size([1, 10])\n"
     ]
    }
   ],
   "source": [
    "# 测试\n",
    "X = torch.rand(1, 1, 96, 96)\n",
    "for name, blk in net.named_children():\n",
    "    X = blk(X)\n",
    "    print(name, 'output shape: ', X.shape)"
   ]
  },
  {
   "cell_type": "code",
   "execution_count": 9,
   "metadata": {
    "collapsed": true
   },
   "outputs": [],
   "source": [
    "### 获取数据"
   ]
  },
  {
   "cell_type": "code",
   "execution_count": 12,
   "metadata": {
    "collapsed": true
   },
   "outputs": [],
   "source": [
    "batch_size = 64\n",
    "train_iter, test_iter = d2l.load_data_fashion_mnist(batch_size, resize=224)"
   ]
  },
  {
   "cell_type": "code",
   "execution_count": 13,
   "metadata": {
    "collapsed": false
   },
   "outputs": [
    {
     "name": "stdout",
     "output_type": "stream",
     "text": [
      "training on  cuda\n",
      "epoch 1, loss 2.4450, train_acc 0.105, test acc 0.100, time 264.4 sec\n",
      "epoch 2, loss 0.9717, train_acc 0.625, test acc 0.808, time 263.5 sec\n",
      "epoch 3, loss 0.4494, train_acc 0.834, test acc 0.862, time 263.0 sec\n",
      "epoch 4, loss 0.3703, train_acc 0.862, test acc 0.873, time 263.2 sec\n",
      "epoch 5, loss 0.3347, train_acc 0.877, test acc 0.891, time 262.9 sec\n",
      "epoch 6, loss 0.3099, train_acc 0.884, test acc 0.896, time 263.7 sec\n",
      "epoch 7, loss 0.2905, train_acc 0.892, test acc 0.900, time 262.6 sec\n",
      "epoch 8, loss 0.2756, train_acc 0.898, test acc 0.906, time 263.2 sec\n",
      "epoch 9, loss 0.2626, train_acc 0.902, test acc 0.907, time 265.1 sec\n",
      "epoch 10, loss 0.2475, train_acc 0.908, test acc 0.914, time 264.6 sec\n"
     ]
    }
   ],
   "source": [
    "lr, num_epochs = 0.001, 10\n",
    "optimizer = torch.optim.Adam(net.parameters(), lr=lr)\n",
    "d2l.train_ch5(net, train_iter, test_iter, batch_size, optimizer, device, num_epochs)"
   ]
  },
  {
   "cell_type": "code",
   "execution_count": null,
   "metadata": {
    "collapsed": true
   },
   "outputs": [],
   "source": [
    "# training on  cuda\n",
    "# epoch 1, loss 2.4450, train_acc 0.105, test acc 0.100, time 264.4 sec\n",
    "# epoch 2, loss 0.9717, train_acc 0.625, test acc 0.808, time 263.5 sec\n",
    "# epoch 3, loss 0.4494, train_acc 0.834, test acc 0.862, time 263.0 sec\n",
    "# epoch 4, loss 0.3703, train_acc 0.862, test acc 0.873, time 263.2 sec\n",
    "# epoch 5, loss 0.3347, train_acc 0.877, test acc 0.891, time 262.9 sec\n",
    "# epoch 6, loss 0.3099, train_acc 0.884, test acc 0.896, time 263.7 sec\n",
    "# epoch 7, loss 0.2905, train_acc 0.892, test acc 0.900, time 262.6 sec\n",
    "# epoch 8, loss 0.2756, train_acc 0.898, test acc 0.906, time 263.2 sec\n",
    "# epoch 9, loss 0.2626, train_acc 0.902, test acc 0.907, time 265.1 sec\n",
    "# epoch 10, loss 0.2475, train_acc 0.908, test acc 0.914, time 264.6 sec"
   ]
  }
 ],
 "metadata": {
  "kernelspec": {
   "display_name": "Python [conda env:anaconda3]",
   "language": "python",
   "name": "conda-env-anaconda3-py"
  },
  "language_info": {
   "codemirror_mode": {
    "name": "ipython",
    "version": 3
   },
   "file_extension": ".py",
   "mimetype": "text/x-python",
   "name": "python",
   "nbconvert_exporter": "python",
   "pygments_lexer": "ipython3",
   "version": "3.5.2"
  }
 },
 "nbformat": 4,
 "nbformat_minor": 1
}
