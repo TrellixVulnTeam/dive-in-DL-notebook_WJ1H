{
 "cells": [
  {
   "cell_type": "markdown",
   "metadata": {},
   "source": [
    "### 说明：\n",
    "\n",
    "在'/home/tpg/Datasets/az_train_val/'文件夹下有train,val两个文件夹，其中train下有az和notaz两类图片。\n",
    "\n",
    "要做什么？\n",
    "\n",
    "1. 读取数据，形成train_data_iter和val_data_iter\n",
    "\n",
    "2. 创建Alex模型(通过torchvision.model_zoo),更改最后一层的分类数和学习率即可。\n",
    "\n",
    "3. 训练"
   ]
  },
  {
   "cell_type": "code",
   "execution_count": 1,
   "metadata": {
    "ExecuteTime": {
     "end_time": "2020-07-20T00:49:14.176615Z",
     "start_time": "2020-07-20T00:49:13.804416Z"
    },
    "collapsed": true
   },
   "outputs": [],
   "source": [
    "import collections\n",
    "import math\n",
    "\n",
    "import os\n",
    "import shutil\n",
    "import time\n",
    "import zipfile\n",
    "\n",
    "import sys\n",
    "sys.path.append('../d2lzh/')\n",
    "import d2lzh_pytorch as d2l\n",
    "\n",
    "import torch\n",
    "import torchvision"
   ]
  },
  {
   "cell_type": "code",
   "execution_count": 2,
   "metadata": {
    "ExecuteTime": {
     "end_time": "2020-07-20T00:49:14.301975Z",
     "start_time": "2020-07-20T00:49:14.283077Z"
    },
    "code_folding": [],
    "collapsed": false
   },
   "outputs": [],
   "source": [
    "### 训练图像增广\n",
    "\n",
    "transform_train = torchvision.transforms.Compose([\n",
    "        torchvision.transforms.RandomResizedCrop(224, \n",
    "                                                 scale=(0.08, 1.0),\n",
    "                                                ratio=(3.0/4.0, 4.0/3.0)),\n",
    "        torchvision.transforms.RandomHorizontalFlip(),\n",
    "        torchvision.transforms.ColorJitter(brightness=0.4, \n",
    "                                          contrast=0.4,\n",
    "                                          saturation=0.4),\n",
    "        torchvision.transforms.ToTensor(),\n",
    "        torchvision.transforms.Normalize(\n",
    "            [0.485, 0.456, 0.406],\n",
    "            [0.229, 0.224, 0.225],\n",
    "        ),\n",
    "        \n",
    "    ])\n"
   ]
  },
  {
   "cell_type": "code",
   "execution_count": 3,
   "metadata": {
    "ExecuteTime": {
     "end_time": "2020-07-20T00:49:15.224489Z",
     "start_time": "2020-07-20T00:49:15.219711Z"
    },
    "collapsed": true
   },
   "outputs": [],
   "source": [
    "demo = False\n",
    "data_dir = '/home/tpg/Datasets/az_train_val/'\n",
    "batch_size = 32"
   ]
  },
  {
   "cell_type": "code",
   "execution_count": 4,
   "metadata": {
    "ExecuteTime": {
     "end_time": "2020-07-20T00:49:15.991348Z",
     "start_time": "2020-07-20T00:49:15.932138Z"
    },
    "code_folding": [],
    "collapsed": false
   },
   "outputs": [],
   "source": [
    "### 读取数据集，并完成封装iter.\n",
    "\n",
    "from torchvision.datasets import ImageFolder as IF\n",
    "from torch.utils.data import DataLoader as DL\n",
    "\n",
    "train_data_path = os.path.join(data_dir, 'train')\n",
    "train_data = IF(train_data_path, transform=transform_train)\n",
    "\n",
    "valid_data_path = os.path.join(data_dir, 'valid')\n",
    "valid_data = IF(valid_data_path, transform=transform_train)\n",
    "\n",
    "# train_valid_data_path = os.path.join(data_dir, 'train_valid')\n",
    "# train_valid_data = IF(train_valid_data_path, transform=transform_train)\n",
    "\n",
    "# test_data_path = os.path.join(data_dir, input_dir, test_dir)\n",
    "# test_data = IF(test_data_path, transform=transform_test)\n",
    "\n",
    "# 封装\n",
    "train_iter = DL(train_data, batch_size, shuffle=True)\n",
    "valid_iter = DL(valid_data, batch_size, shuffle=True)\n",
    "# train_valid_iter = DL(train_valid_data, batch_size, shuffle=True)\n",
    "# test_iter = DL(test_data, batch_size, shuffle=False)"
   ]
  },
  {
   "cell_type": "code",
   "execution_count": 5,
   "metadata": {
    "ExecuteTime": {
     "end_time": "2020-07-20T00:49:16.986504Z",
     "start_time": "2020-07-20T00:49:16.794681Z"
    },
    "code_folding": [],
    "collapsed": false
   },
   "outputs": [],
   "source": [
    "### 定义模型\n",
    "# 采用fine tuning的思想来进行迁移学习\n",
    "\n",
    "from torchvision import models\n",
    "from torch import nn, optim\n",
    "\n",
    "pretrained_net = models.resnet18(pretrained=True) # 下载pretrained模型\n",
    "\n",
    "# print(pretrained_net)\n",
    "# print(pretrained_net.fc)\n",
    "pretrained_net.fc = nn.Linear(512, 2)  # 参数已经完成初始化，但其他层的参数依旧保持不变\n",
    "# print(pretrained_net.fc)"
   ]
  },
  {
   "cell_type": "code",
   "execution_count": 6,
   "metadata": {
    "ExecuteTime": {
     "end_time": "2020-07-20T00:49:18.049539Z",
     "start_time": "2020-07-20T00:49:18.042739Z"
    },
    "code_folding": [],
    "collapsed": true
   },
   "outputs": [],
   "source": [
    "### 更改模型的学习率（前面参数的学习率较低、最后一层参数的学习率较高）\n",
    "\n",
    "# 先列出参数\n",
    "output_params = list(map(id, pretrained_net.fc.parameters()))\n",
    "# print(output_params)\n",
    "\n",
    "# 过滤出其他参数\n",
    "feature_params = filter(lambda p: id(p) not in output_params, pretrained_net.parameters())\n",
    "# print(feature_params)\n",
    "\n",
    "lr = 0.01\n",
    "optimizer = optim.SGD([\n",
    "        {'params': feature_params},\n",
    "        {'params': pretrained_net.fc.parameters(), 'lr':lr * 10}],\n",
    "        lr=lr, weight_decay=0.001,\n",
    "    )"
   ]
  },
  {
   "cell_type": "code",
   "execution_count": 7,
   "metadata": {
    "ExecuteTime": {
     "end_time": "2020-07-20T00:49:19.187147Z",
     "start_time": "2020-07-20T00:49:19.172418Z"
    },
    "code_folding": [],
    "collapsed": false
   },
   "outputs": [],
   "source": [
    "### 定义训练函数\n",
    "\n",
    "\n",
    "def train(net, train_iter, valid_iter, loss, optimizer, num_epochs, device):\n",
    "\n",
    "    net = net.to(device)\n",
    "    print(\"training on:\", device)\n",
    "    batch_count = 0\n",
    "\n",
    "    for epoch in range(num_epochs):\n",
    "        train_l_sum, train_acc_sum, bs = 0.0, 0.0, 0\n",
    "        start = time.time()\n",
    "\n",
    "        for X, y in train_iter:\n",
    "            X = X.to(device)\n",
    "            y = y.to(device)\n",
    "            y_hat = net(X)\n",
    "            l = loss(y_hat, y)\n",
    "            optimizer.zero_grad()\n",
    "            l.backward()\n",
    "            optimizer.step()\n",
    "\n",
    "            train_l_sum += l.cpu().item()\n",
    "            train_acc_sum += (y_hat.argmax(dim=1) == y).sum().cpu().item()\n",
    "            bs += y.shape[0]\n",
    "            batch_count += 1\n",
    "\n",
    "        if valid_iter is not None:\n",
    "            valid_acc = d2l.evaluate_accuracy(valid_iter, net)\n",
    "            acc_str = (\"train acc %.7f, valid acc %.7f,\" %\n",
    "                       (train_acc_sum / bs, valid_acc))\n",
    "        else:\n",
    "            acc_str = (\"train acc %.7f,\" % (train_acc_sum / bs))\n",
    "\n",
    "        print(\"epoch %d, train loss %.7f,\" %\n",
    "              (epoch + 1, train_l_sum / batch_count) + acc_str + \"time %.2f\" %\n",
    "              (time.time() - start))"
   ]
  },
  {
   "cell_type": "code",
   "execution_count": null,
   "metadata": {
    "ExecuteTime": {
     "start_time": "2020-07-19T16:49:20.415Z"
    },
    "code_folding": [],
    "collapsed": false,
    "scrolled": true
   },
   "outputs": [
    {
     "name": "stdout",
     "output_type": "stream",
     "text": [
      "training on: cuda\n",
      "epoch 1, train loss 3.0427241,train acc 0.5468750, valid acc 0.6240000,time 33.16\n",
      "epoch 2, train loss 0.9718658,train acc 0.5183594, valid acc 0.5490000,time 32.96\n"
     ]
    }
   ],
   "source": [
    "### 开始训练(暂时先不测试)\n",
    "\n",
    "loss = torch.nn.CrossEntropyLoss()\n",
    "device = 'cuda' if torch.cuda.is_available() else 'cpu'\n",
    "num_epochs = 200\n",
    "\n",
    "train(pretrained_net, train_iter, valid_iter, loss, optimizer, num_epochs, device)\n",
    "\n",
    "# 保存\n",
    "PATH = \"./pretrained_resnet18_my.pth\"\n",
    "torch.save(pretrained_net.state_dict(), PATH)\n"
   ]
  },
  {
   "cell_type": "markdown",
   "metadata": {},
   "source": [
    "### 测试阶段\n",
    "\n",
    "#### 准备数据集 ——  加载模型 —— 预测结果"
   ]
  },
  {
   "cell_type": "code",
   "execution_count": null,
   "metadata": {
    "ExecuteTime": {
     "end_time": "2020-07-20T00:39:02.380841Z",
     "start_time": "2020-07-20T00:39:02.353687Z"
    },
    "collapsed": false
   },
   "outputs": [],
   "source": [
    "# 进入测试环节（用所有训练集训练，所有的测试集进行测试）\n",
    "\n",
    "import os\n",
    "import torch\n",
    "import torchvision\n",
    "from torchvision import models\n",
    "from torch import nn, optim\n",
    "\n",
    "demo = False\n",
    "data_dir = '/home/tpg/Datasets/az_train_val/'\n",
    "test_dir = \"test/\"\n",
    "PATH = \"./pretrained_resnet18_my.pth\"\n",
    "batch_size = 32\n",
    "\n",
    "#### 准备数据集\n",
    "transform_test = torchvision.transforms.Compose([\n",
    "    torchvision.transforms.Resize(256),\n",
    "    torchvision.transforms.CenterCrop(224),\n",
    "    torchvision.transforms.ToTensor(),\n",
    "    torchvision.transforms.Normalize(\n",
    "        [0.485, 0.456, 0.406],\n",
    "        [0.229, 0.224, 0.225],\n",
    "    ),\n",
    "])\n",
    "# 封装\n",
    "test_data_path = os.path.join(data_dir, test_dir)\n",
    "test_data = IF(test_data_path, transform=transform_test)\n",
    "test_iter = DL(test_data, batch_size, shuffle=False)\n"
   ]
  },
  {
   "cell_type": "code",
   "execution_count": null,
   "metadata": {
    "ExecuteTime": {
     "end_time": "2020-07-20T00:39:03.717558Z",
     "start_time": "2020-07-20T00:39:03.579692Z"
    },
    "collapsed": false
   },
   "outputs": [],
   "source": [
    "#### 加载模型\n",
    "\n",
    "model = models.resnet18(pretrained=False)\n",
    "model.fc = nn.Linear(512, 2)\n",
    "model.load_state_dict(torch.load(PATH))\n",
    "# print(model.state_dict())"
   ]
  },
  {
   "cell_type": "code",
   "execution_count": null,
   "metadata": {
    "ExecuteTime": {
     "end_time": "2020-07-20T00:39:05.885398Z",
     "start_time": "2020-07-20T00:39:05.228101Z"
    },
    "collapsed": false
   },
   "outputs": [],
   "source": [
    "#### 预测结果\n",
    "\n",
    "preds = []\n",
    "device = 'cuda' if torch.cuda.is_available() else 'cpu'\n",
    "for X, _ in test_iter:\n",
    "    X = X.to(device)\n",
    "    model = model.to(device)\n",
    "    y_hat = model(X)\n",
    "    preds.extend(y_hat.argmax(dim=1).cpu())   # 将每个样本的预测值计算出来。预测结果如 0,1,2,...,9\n",
    "print(preds[0])\n",
    "# print(preds)"
   ]
  },
  {
   "cell_type": "code",
   "execution_count": null,
   "metadata": {
    "ExecuteTime": {
     "end_time": "2020-07-20T00:45:25.881317Z",
     "start_time": "2020-07-20T00:45:25.866271Z"
    },
    "collapsed": false
   },
   "outputs": [],
   "source": [
    "#### 映射到具体类\n",
    "\n",
    "ids = sorted(os.listdir(os.path.join(data_dir, test_dir,\n",
    "                                     \"unknown\")))  # 读取test/uknown文件夹下的所有文件并排序\n",
    "# print(ids)\n",
    "\n",
    "preds_str = []\n",
    "for i in preds:\n",
    "    if i == 0:\n",
    "        preds_str.append(train_data.classes[0])\n",
    "    elif i == 1:\n",
    "        preds_str.append(train_data.classes[1])            \n",
    "# print(preds_str)\n",
    "\n",
    "with open(\"/home/tpg/Datasets/az_train_val/submission.csv\", 'w') as f:\n",
    "    f.write('id,' + \"result\" + '\\n')\n",
    "    for i, pred in zip(ids, preds_str):\n",
    "        img_name = i.split('.')[0]\n",
    "        f.write(img_name + ',' + pred + '\\n')\n",
    "\n",
    "print(\"success\")\n",
    "        \n",
    "# import pandas as pd\n",
    "\n",
    "# sorted_ids = list(range(1, len(test_data) + 1))   # 生成1,2,3,..., n的数组\n",
    "# # print(sorted_ids)\n",
    "# sorted_ids.sort(key=lambda x: str(x))   # 将数组以首数字进行排序：1, 10, 100, 101, 102, ...\n",
    "# # print(sorted_ids)\n",
    "\n",
    "# df = pd.DataFrame({'id': sorted_ids, 'label':preds})\n",
    "# print(df)\n",
    "\n",
    "# df['label'] = df['label'].apply(lambda x: train_data.classes[x])\n",
    "# print(df)"
   ]
  },
  {
   "cell_type": "code",
   "execution_count": null,
   "metadata": {
    "collapsed": true
   },
   "outputs": [],
   "source": []
  }
 ],
 "metadata": {
  "anaconda-cloud": {},
  "kernelspec": {
   "display_name": "Python [conda env:anaconda3]",
   "language": "python",
   "name": "conda-env-anaconda3-py"
  },
  "language_info": {
   "codemirror_mode": {
    "name": "ipython",
    "version": 3
   },
   "file_extension": ".py",
   "mimetype": "text/x-python",
   "name": "python",
   "nbconvert_exporter": "python",
   "pygments_lexer": "ipython3",
   "version": "3.5.6"
  },
  "toc": {
   "base_numbering": 1,
   "nav_menu": {},
   "number_sections": true,
   "sideBar": true,
   "skip_h1_title": false,
   "title_cell": "Table of Contents",
   "title_sidebar": "Contents",
   "toc_cell": false,
   "toc_position": {},
   "toc_section_display": true,
   "toc_window_display": true
  }
 },
 "nbformat": 4,
 "nbformat_minor": 1
}
